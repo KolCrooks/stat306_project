{
 "cells": [
  {
   "cell_type": "code",
   "execution_count": 19,
   "id": "6f635617-3c1d-4010-930d-3dd55c7a1b98",
   "metadata": {
    "tags": []
   },
   "outputs": [
    {
     "name": "stderr",
     "output_type": "stream",
     "text": [
      "Installing package into ‘/usr/local/lib/R/site-library’\n",
      "(as ‘lib’ is unspecified)\n",
      "\n",
      "also installing the dependencies ‘tibble’, ‘vctrs’\n",
      "\n",
      "\n"
     ]
    }
   ],
   "source": [
    "library(\"readxl\")\n",
    "library(\"dplyr\")"
   ]
  },
  {
   "cell_type": "code",
   "execution_count": 17,
   "id": "544833a2-8d49-4fc1-8600-03b30832f33e",
   "metadata": {
    "tags": []
   },
   "outputs": [
    {
     "data": {
      "text/html": [
       "<table class=\"dataframe\">\n",
       "<caption>A tibble: 6 × 8</caption>\n",
       "<thead>\n",
       "\t<tr><th scope=col>No</th><th scope=col>X1 transaction date</th><th scope=col>X2 house age</th><th scope=col>X3 distance to the nearest MRT station</th><th scope=col>X4 number of convenience stores</th><th scope=col>X5 latitude</th><th scope=col>X6 longitude</th><th scope=col>Y house price of unit area</th></tr>\n",
       "\t<tr><th scope=col>&lt;dbl&gt;</th><th scope=col>&lt;dbl&gt;</th><th scope=col>&lt;dbl&gt;</th><th scope=col>&lt;dbl&gt;</th><th scope=col>&lt;dbl&gt;</th><th scope=col>&lt;dbl&gt;</th><th scope=col>&lt;dbl&gt;</th><th scope=col>&lt;dbl&gt;</th></tr>\n",
       "</thead>\n",
       "<tbody>\n",
       "\t<tr><td>1</td><td>2012.917</td><td>32.0</td><td>  84.87882</td><td>10</td><td>24.98298</td><td>121.5402</td><td>37.9</td></tr>\n",
       "\t<tr><td>2</td><td>2012.917</td><td>19.5</td><td> 306.59470</td><td> 9</td><td>24.98034</td><td>121.5395</td><td>42.2</td></tr>\n",
       "\t<tr><td>3</td><td>2013.583</td><td>13.3</td><td> 561.98450</td><td> 5</td><td>24.98746</td><td>121.5439</td><td>47.3</td></tr>\n",
       "\t<tr><td>4</td><td>2013.500</td><td>13.3</td><td> 561.98450</td><td> 5</td><td>24.98746</td><td>121.5439</td><td>54.8</td></tr>\n",
       "\t<tr><td>5</td><td>2012.833</td><td> 5.0</td><td> 390.56840</td><td> 5</td><td>24.97937</td><td>121.5425</td><td>43.1</td></tr>\n",
       "\t<tr><td>6</td><td>2012.667</td><td> 7.1</td><td>2175.03000</td><td> 3</td><td>24.96305</td><td>121.5125</td><td>32.1</td></tr>\n",
       "</tbody>\n",
       "</table>\n"
      ],
      "text/latex": [
       "A tibble: 6 × 8\n",
       "\\begin{tabular}{llllllll}\n",
       " No & X1 transaction date & X2 house age & X3 distance to the nearest MRT station & X4 number of convenience stores & X5 latitude & X6 longitude & Y house price of unit area\\\\\n",
       " <dbl> & <dbl> & <dbl> & <dbl> & <dbl> & <dbl> & <dbl> & <dbl>\\\\\n",
       "\\hline\n",
       "\t 1 & 2012.917 & 32.0 &   84.87882 & 10 & 24.98298 & 121.5402 & 37.9\\\\\n",
       "\t 2 & 2012.917 & 19.5 &  306.59470 &  9 & 24.98034 & 121.5395 & 42.2\\\\\n",
       "\t 3 & 2013.583 & 13.3 &  561.98450 &  5 & 24.98746 & 121.5439 & 47.3\\\\\n",
       "\t 4 & 2013.500 & 13.3 &  561.98450 &  5 & 24.98746 & 121.5439 & 54.8\\\\\n",
       "\t 5 & 2012.833 &  5.0 &  390.56840 &  5 & 24.97937 & 121.5425 & 43.1\\\\\n",
       "\t 6 & 2012.667 &  7.1 & 2175.03000 &  3 & 24.96305 & 121.5125 & 32.1\\\\\n",
       "\\end{tabular}\n"
      ],
      "text/markdown": [
       "\n",
       "A tibble: 6 × 8\n",
       "\n",
       "| No &lt;dbl&gt; | X1 transaction date &lt;dbl&gt; | X2 house age &lt;dbl&gt; | X3 distance to the nearest MRT station &lt;dbl&gt; | X4 number of convenience stores &lt;dbl&gt; | X5 latitude &lt;dbl&gt; | X6 longitude &lt;dbl&gt; | Y house price of unit area &lt;dbl&gt; |\n",
       "|---|---|---|---|---|---|---|---|\n",
       "| 1 | 2012.917 | 32.0 |   84.87882 | 10 | 24.98298 | 121.5402 | 37.9 |\n",
       "| 2 | 2012.917 | 19.5 |  306.59470 |  9 | 24.98034 | 121.5395 | 42.2 |\n",
       "| 3 | 2013.583 | 13.3 |  561.98450 |  5 | 24.98746 | 121.5439 | 47.3 |\n",
       "| 4 | 2013.500 | 13.3 |  561.98450 |  5 | 24.98746 | 121.5439 | 54.8 |\n",
       "| 5 | 2012.833 |  5.0 |  390.56840 |  5 | 24.97937 | 121.5425 | 43.1 |\n",
       "| 6 | 2012.667 |  7.1 | 2175.03000 |  3 | 24.96305 | 121.5125 | 32.1 |\n",
       "\n"
      ],
      "text/plain": [
       "  No X1 transaction date X2 house age X3 distance to the nearest MRT station\n",
       "1 1  2012.917            32.0           84.87882                            \n",
       "2 2  2012.917            19.5          306.59470                            \n",
       "3 3  2013.583            13.3          561.98450                            \n",
       "4 4  2013.500            13.3          561.98450                            \n",
       "5 5  2012.833             5.0          390.56840                            \n",
       "6 6  2012.667             7.1         2175.03000                            \n",
       "  X4 number of convenience stores X5 latitude X6 longitude\n",
       "1 10                              24.98298    121.5402    \n",
       "2  9                              24.98034    121.5395    \n",
       "3  5                              24.98746    121.5439    \n",
       "4  5                              24.98746    121.5439    \n",
       "5  5                              24.97937    121.5425    \n",
       "6  3                              24.96305    121.5125    \n",
       "  Y house price of unit area\n",
       "1 37.9                      \n",
       "2 42.2                      \n",
       "3 47.3                      \n",
       "4 54.8                      \n",
       "5 43.1                      \n",
       "6 32.1                      "
      ]
     },
     "metadata": {},
     "output_type": "display_data"
    }
   ],
   "source": [
    "real_estate <- read_excel(\"Real estate valuation data set.xlsx\")\n",
    "head(real_estate)"
   ]
  },
  {
   "cell_type": "code",
   "execution_count": 20,
   "id": "9da365fe-4371-4051-8d1c-1d50e0b6c142",
   "metadata": {
    "tags": []
   },
   "outputs": [
    {
     "data": {
      "text/html": [
       "<table class=\"dataframe\">\n",
       "<caption>A tibble: 6 × 8</caption>\n",
       "<thead>\n",
       "\t<tr><th scope=col>No</th><th scope=col>transaction_date</th><th scope=col>house_age</th><th scope=col>nearest_station</th><th scope=col>num_convenience</th><th scope=col>lat</th><th scope=col>lon</th><th scope=col>house_price</th></tr>\n",
       "\t<tr><th scope=col>&lt;dbl&gt;</th><th scope=col>&lt;dbl&gt;</th><th scope=col>&lt;dbl&gt;</th><th scope=col>&lt;dbl&gt;</th><th scope=col>&lt;dbl&gt;</th><th scope=col>&lt;dbl&gt;</th><th scope=col>&lt;dbl&gt;</th><th scope=col>&lt;dbl&gt;</th></tr>\n",
       "</thead>\n",
       "<tbody>\n",
       "\t<tr><td>1</td><td>2012.917</td><td>32.0</td><td>  84.87882</td><td>10</td><td>24.98298</td><td>121.5402</td><td>37.9</td></tr>\n",
       "\t<tr><td>2</td><td>2012.917</td><td>19.5</td><td> 306.59470</td><td> 9</td><td>24.98034</td><td>121.5395</td><td>42.2</td></tr>\n",
       "\t<tr><td>3</td><td>2013.583</td><td>13.3</td><td> 561.98450</td><td> 5</td><td>24.98746</td><td>121.5439</td><td>47.3</td></tr>\n",
       "\t<tr><td>4</td><td>2013.500</td><td>13.3</td><td> 561.98450</td><td> 5</td><td>24.98746</td><td>121.5439</td><td>54.8</td></tr>\n",
       "\t<tr><td>5</td><td>2012.833</td><td> 5.0</td><td> 390.56840</td><td> 5</td><td>24.97937</td><td>121.5425</td><td>43.1</td></tr>\n",
       "\t<tr><td>6</td><td>2012.667</td><td> 7.1</td><td>2175.03000</td><td> 3</td><td>24.96305</td><td>121.5125</td><td>32.1</td></tr>\n",
       "</tbody>\n",
       "</table>\n"
      ],
      "text/latex": [
       "A tibble: 6 × 8\n",
       "\\begin{tabular}{llllllll}\n",
       " No & transaction\\_date & house\\_age & nearest\\_station & num\\_convenience & lat & lon & house\\_price\\\\\n",
       " <dbl> & <dbl> & <dbl> & <dbl> & <dbl> & <dbl> & <dbl> & <dbl>\\\\\n",
       "\\hline\n",
       "\t 1 & 2012.917 & 32.0 &   84.87882 & 10 & 24.98298 & 121.5402 & 37.9\\\\\n",
       "\t 2 & 2012.917 & 19.5 &  306.59470 &  9 & 24.98034 & 121.5395 & 42.2\\\\\n",
       "\t 3 & 2013.583 & 13.3 &  561.98450 &  5 & 24.98746 & 121.5439 & 47.3\\\\\n",
       "\t 4 & 2013.500 & 13.3 &  561.98450 &  5 & 24.98746 & 121.5439 & 54.8\\\\\n",
       "\t 5 & 2012.833 &  5.0 &  390.56840 &  5 & 24.97937 & 121.5425 & 43.1\\\\\n",
       "\t 6 & 2012.667 &  7.1 & 2175.03000 &  3 & 24.96305 & 121.5125 & 32.1\\\\\n",
       "\\end{tabular}\n"
      ],
      "text/markdown": [
       "\n",
       "A tibble: 6 × 8\n",
       "\n",
       "| No &lt;dbl&gt; | transaction_date &lt;dbl&gt; | house_age &lt;dbl&gt; | nearest_station &lt;dbl&gt; | num_convenience &lt;dbl&gt; | lat &lt;dbl&gt; | lon &lt;dbl&gt; | house_price &lt;dbl&gt; |\n",
       "|---|---|---|---|---|---|---|---|\n",
       "| 1 | 2012.917 | 32.0 |   84.87882 | 10 | 24.98298 | 121.5402 | 37.9 |\n",
       "| 2 | 2012.917 | 19.5 |  306.59470 |  9 | 24.98034 | 121.5395 | 42.2 |\n",
       "| 3 | 2013.583 | 13.3 |  561.98450 |  5 | 24.98746 | 121.5439 | 47.3 |\n",
       "| 4 | 2013.500 | 13.3 |  561.98450 |  5 | 24.98746 | 121.5439 | 54.8 |\n",
       "| 5 | 2012.833 |  5.0 |  390.56840 |  5 | 24.97937 | 121.5425 | 43.1 |\n",
       "| 6 | 2012.667 |  7.1 | 2175.03000 |  3 | 24.96305 | 121.5125 | 32.1 |\n",
       "\n"
      ],
      "text/plain": [
       "  No transaction_date house_age nearest_station num_convenience lat     \n",
       "1 1  2012.917         32.0        84.87882      10              24.98298\n",
       "2 2  2012.917         19.5       306.59470       9              24.98034\n",
       "3 3  2013.583         13.3       561.98450       5              24.98746\n",
       "4 4  2013.500         13.3       561.98450       5              24.98746\n",
       "5 5  2012.833          5.0       390.56840       5              24.97937\n",
       "6 6  2012.667          7.1      2175.03000       3              24.96305\n",
       "  lon      house_price\n",
       "1 121.5402 37.9       \n",
       "2 121.5395 42.2       \n",
       "3 121.5439 47.3       \n",
       "4 121.5439 54.8       \n",
       "5 121.5425 43.1       \n",
       "6 121.5125 32.1       "
      ]
     },
     "metadata": {},
     "output_type": "display_data"
    }
   ],
   "source": [
    "real_estate <- real_estate %>%\n",
    "        rename(\n",
    "            transaction_date = `X1 transaction date`,\n",
    "            house_age = `X2 house age`,\n",
    "            nearest_station = `X3 distance to the nearest MRT station`,\n",
    "            num_convenience = `X4 number of convenience stores`,\n",
    "            lat = `X5 latitude`,\n",
    "            lon = `X6 longitude`,\n",
    "            house_price = `Y house price of unit area`\n",
    "        )\n",
    "head(real_estate)"
   ]
  },
  {
   "cell_type": "code",
   "execution_count": 15,
   "id": "b8ce13bd-b7b8-431a-94d3-718563298a8e",
   "metadata": {
    "tags": []
   },
   "outputs": [
    {
     "name": "stderr",
     "output_type": "stream",
     "text": [
      "Installing package into ‘/usr/local/lib/R/site-library’\n",
      "(as ‘lib’ is unspecified)\n",
      "\n"
     ]
    }
   ],
   "source": []
  },
  {
   "cell_type": "code",
   "execution_count": null,
   "id": "3f26a681-241a-4a1a-a39b-45bfbb514356",
   "metadata": {},
   "outputs": [],
   "source": []
  }
 ],
 "metadata": {
  "kernelspec": {
   "display_name": "R",
   "language": "R",
   "name": "ir"
  },
  "language_info": {
   "codemirror_mode": "r",
   "file_extension": ".r",
   "mimetype": "text/x-r-source",
   "name": "R",
   "pygments_lexer": "r",
   "version": "4.1.2"
  }
 },
 "nbformat": 4,
 "nbformat_minor": 5
}
